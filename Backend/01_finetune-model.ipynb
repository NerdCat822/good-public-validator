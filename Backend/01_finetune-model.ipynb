{
 "cells": [
  {
   "cell_type": "code",
   "execution_count": 1,
   "metadata": {},
   "outputs": [],
   "source": [
    "import openai\n",
    "import os\n",
    "from dotenv import load_dotenv\n",
    "load_dotenv()\n",
    "\n",
    "openai.api_key = os.getenv('OPENAI_API_KEY')"
   ]
  },
  {
   "cell_type": "code",
   "execution_count": 2,
   "metadata": {},
   "outputs": [],
   "source": [
    "from openai import OpenAI"
   ]
  },
  {
   "cell_type": "code",
   "execution_count": 3,
   "metadata": {},
   "outputs": [],
   "source": [
    "client = OpenAI()"
   ]
  },
  {
   "cell_type": "code",
   "execution_count": 4,
   "metadata": {},
   "outputs": [],
   "source": [
    "train_file = client.files.create(\n",
    "  file=open(\"korean_textbooks_train.jsonl\", \"rb\"),\n",
    "  purpose=\"fine-tune\"\n",
    ")"
   ]
  },
  {
   "cell_type": "code",
   "execution_count": 5,
   "metadata": {},
   "outputs": [
    {
     "data": {
      "text/plain": [
       "FileObject(id='file-nm5REj7SmvaSvkEq1z70nza7', bytes=496361, created_at=1713020621, filename='korean_textbooks_train.jsonl', object='file', purpose='fine-tune', status='processed', status_details=None)"
      ]
     },
     "execution_count": 5,
     "metadata": {},
     "output_type": "execute_result"
    }
   ],
   "source": [
    "train_file"
   ]
  },
  {
   "cell_type": "code",
   "execution_count": 6,
   "metadata": {},
   "outputs": [
    {
     "data": {
      "text/plain": [
       "{'id': 'file-nm5REj7SmvaSvkEq1z70nza7',\n",
       " 'bytes': 496361,\n",
       " 'created_at': 1713020621,\n",
       " 'filename': 'korean_textbooks_train.jsonl',\n",
       " 'object': 'file',\n",
       " 'purpose': 'fine-tune',\n",
       " 'status': 'processed',\n",
       " 'status_details': None}"
      ]
     },
     "execution_count": 6,
     "metadata": {},
     "output_type": "execute_result"
    }
   ],
   "source": [
    "train_file.dict()"
   ]
  },
  {
   "cell_type": "code",
   "execution_count": 7,
   "metadata": {},
   "outputs": [
    {
     "data": {
      "text/plain": [
       "'file-nm5REj7SmvaSvkEq1z70nza7'"
      ]
     },
     "execution_count": 7,
     "metadata": {},
     "output_type": "execute_result"
    }
   ],
   "source": [
    "train_file.id"
   ]
  },
  {
   "cell_type": "code",
   "execution_count": 8,
   "metadata": {},
   "outputs": [],
   "source": [
    "valid_file = client.files.create(\n",
    "  file=open(\"korean_textbooks_valid.jsonl\", \"rb\"),\n",
    "  purpose=\"fine-tune\"\n",
    ")"
   ]
  },
  {
   "cell_type": "code",
   "execution_count": 9,
   "metadata": {},
   "outputs": [
    {
     "data": {
      "text/plain": [
       "FileObject(id='file-APTOhyCafJFeVgAuMf89hQJ3', bytes=141933, created_at=1713020630, filename='korean_textbooks_valid.jsonl', object='file', purpose='fine-tune', status='processed', status_details=None)"
      ]
     },
     "execution_count": 9,
     "metadata": {},
     "output_type": "execute_result"
    }
   ],
   "source": [
    "valid_file"
   ]
  },
  {
   "cell_type": "code",
   "execution_count": 10,
   "metadata": {},
   "outputs": [
    {
     "data": {
      "text/plain": [
       "{'id': 'file-APTOhyCafJFeVgAuMf89hQJ3',\n",
       " 'bytes': 141933,\n",
       " 'created_at': 1713020630,\n",
       " 'filename': 'korean_textbooks_valid.jsonl',\n",
       " 'object': 'file',\n",
       " 'purpose': 'fine-tune',\n",
       " 'status': 'processed',\n",
       " 'status_details': None}"
      ]
     },
     "execution_count": 10,
     "metadata": {},
     "output_type": "execute_result"
    }
   ],
   "source": [
    "valid_file.dict()"
   ]
  },
  {
   "cell_type": "code",
   "execution_count": 11,
   "metadata": {},
   "outputs": [
    {
     "data": {
      "text/plain": [
       "'file-APTOhyCafJFeVgAuMf89hQJ3'"
      ]
     },
     "execution_count": 11,
     "metadata": {},
     "output_type": "execute_result"
    }
   ],
   "source": [
    "valid_file.id"
   ]
  },
  {
   "cell_type": "code",
   "execution_count": 12,
   "metadata": {},
   "outputs": [],
   "source": [
    "job = client.fine_tuning.jobs.create(\n",
    "  training_file=train_file.id,\n",
    "  validation_file=valid_file.id, \n",
    "  model=\"gpt-3.5-turbo-1106\",\n",
    "  hyperparameters={\n",
    "    \"n_epochs\": 1 # default: 3\n",
    "  }\n",
    ")"
   ]
  },
  {
   "cell_type": "code",
   "execution_count": 13,
   "metadata": {},
   "outputs": [
    {
     "data": {
      "text/plain": [
       "FineTuningJob(id='ftjob-iadwNHCj2x337cH0B1IFonco', created_at=1713020642, error=Error(code=None, message=None, param=None, error=None), fine_tuned_model=None, finished_at=None, hyperparameters=Hyperparameters(n_epochs=1, batch_size='auto', learning_rate_multiplier='auto'), model='gpt-3.5-turbo-1106', object='fine_tuning.job', organization_id='org-FQB8wioJPwl5Ko7RJoTez3bZ', result_files=[], status='validating_files', trained_tokens=None, training_file='file-nm5REj7SmvaSvkEq1z70nza7', validation_file='file-APTOhyCafJFeVgAuMf89hQJ3', user_provided_suffix=None, seed=1569259895, integrations=[])"
      ]
     },
     "execution_count": 13,
     "metadata": {},
     "output_type": "execute_result"
    }
   ],
   "source": [
    "job"
   ]
  },
  {
   "cell_type": "code",
   "execution_count": 14,
   "metadata": {},
   "outputs": [
    {
     "data": {
      "text/plain": [
       "{'id': 'ftjob-iadwNHCj2x337cH0B1IFonco',\n",
       " 'created_at': 1713020642,\n",
       " 'error': {'code': None, 'message': None, 'param': None, 'error': None},\n",
       " 'fine_tuned_model': None,\n",
       " 'finished_at': None,\n",
       " 'hyperparameters': {'n_epochs': 1,\n",
       "  'batch_size': 'auto',\n",
       "  'learning_rate_multiplier': 'auto'},\n",
       " 'model': 'gpt-3.5-turbo-1106',\n",
       " 'object': 'fine_tuning.job',\n",
       " 'organization_id': 'org-FQB8wioJPwl5Ko7RJoTez3bZ',\n",
       " 'result_files': [],\n",
       " 'status': 'validating_files',\n",
       " 'trained_tokens': None,\n",
       " 'training_file': 'file-nm5REj7SmvaSvkEq1z70nza7',\n",
       " 'validation_file': 'file-APTOhyCafJFeVgAuMf89hQJ3',\n",
       " 'user_provided_suffix': None,\n",
       " 'seed': 1569259895,\n",
       " 'integrations': []}"
      ]
     },
     "execution_count": 14,
     "metadata": {},
     "output_type": "execute_result"
    }
   ],
   "source": [
    "job.dict()"
   ]
  },
  {
   "cell_type": "code",
   "execution_count": 15,
   "metadata": {},
   "outputs": [
    {
     "data": {
      "text/plain": [
       "'ftjob-iadwNHCj2x337cH0B1IFonco'"
      ]
     },
     "execution_count": 15,
     "metadata": {},
     "output_type": "execute_result"
    }
   ],
   "source": [
    "job.id"
   ]
  },
  {
   "cell_type": "code",
   "execution_count": 19,
   "metadata": {},
   "outputs": [
    {
     "name": "stdout",
     "output_type": "stream",
     "text": [
      "Job ID: ftjob-iadwNHCj2x337cH0B1IFonco\n",
      "Status: validating_files\n"
     ]
    }
   ],
   "source": [
    "print(\"Job ID:\", job.id)\n",
    "print(\"Status:\", job.status)"
   ]
  },
  {
   "cell_type": "code",
   "execution_count": null,
   "metadata": {},
   "outputs": [],
   "source": [
    "resp = client.fine_tuning.jobs.list(limit=10)"
   ]
  },
  {
   "cell_type": "code",
   "execution_count": null,
   "metadata": {},
   "outputs": [],
   "source": [
    "resp.dict()"
   ]
  },
  {
   "cell_type": "code",
   "execution_count": null,
   "metadata": {},
   "outputs": [],
   "source": [
    "job = client.fine_tuning.jobs.retrieve(job.id)"
   ]
  },
  {
   "cell_type": "code",
   "execution_count": null,
   "metadata": {},
   "outputs": [],
   "source": [
    "job.dict()"
   ]
  },
  {
   "cell_type": "code",
   "execution_count": null,
   "metadata": {},
   "outputs": [],
   "source": [
    "print(\"Job ID:\", job.id)\n",
    "print(\"Status:\", job.status)"
   ]
  },
  {
   "cell_type": "code",
   "execution_count": null,
   "metadata": {},
   "outputs": [],
   "source": [
    "# List up to 10 events from a fine-tuning job\n",
    "response = client.fine_tuning.jobs.list_events(fine_tuning_job_id=job.id, limit=10)\n",
    "events = response.data\n",
    "events.reverse()\n",
    "\n",
    "for event in events:\n",
    "    print(event.message)"
   ]
  },
  {
   "cell_type": "code",
   "execution_count": null,
   "metadata": {},
   "outputs": [],
   "source": []
  }
 ],
 "metadata": {
  "kernelspec": {
   "display_name": "MS-Gen-ai-hackathon",
   "language": "python",
   "name": "python3"
  },
  "language_info": {
   "codemirror_mode": {
    "name": "ipython",
    "version": 3
   },
   "file_extension": ".py",
   "mimetype": "text/x-python",
   "name": "python",
   "nbconvert_exporter": "python",
   "pygments_lexer": "ipython3",
   "version": "3.8.19"
  }
 },
 "nbformat": 4,
 "nbformat_minor": 2
}
